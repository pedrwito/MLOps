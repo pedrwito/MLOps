{
 "cells": [
  {
   "cell_type": "code",
   "execution_count": null,
   "metadata": {
    "vscode": {
     "languageId": "plaintext"
    }
   },
   "outputs": [],
   "source": [
    "import awswrangler as wr\n",
    "\n",
    "import mlflow\n",
    "\n",
    "# Para que funciones, todos nuestros scripts debemos exportar las siguientes variables de entorno\n",
    "%env AWS_ACCESS_KEY_ID=minio   \n",
    "%env AWS_SECRET_ACCESS_KEY=minio123 \n",
    "%env MLFLOW_S3_ENDPOINT_URL=http://localhost:9000\n",
    "%env AWS_ENDPOINT_URL_S3=http://localhost:9000\n",
    "#%env MLFLOW_S3_ENDPOINT_URL=http://192.168.0.21:9000\n",
    "#%env AWS_ENDPOINT_URL_S3=http://192.168.0.21:9000"
   ]
  },
  {
   "cell_type": "code",
   "execution_count": null,
   "metadata": {
    "vscode": {
     "languageId": "plaintext"
    }
   },
   "outputs": [],
   "source": [
    "\n",
    "import matplotlib.pyplot as plt\n",
    "import pandas as pd\n",
    "from sklearn.model_selection import train_test_split\n",
    "\n",
    "from sklearn.linear_model import LogisticRegression\n",
    "from sklearn.neighbors import KNeighborsClassifier\n",
    "from sklearn.svm import SVC\n",
    "from sklearn.preprocessing import StandardScaler\n",
    "from astropy.time import Time\n",
    "from sklearn.linear_model import SGDClassifier\n",
    "from sklearn.metrics import classification_report, accuracy_score\n",
    "from sklearn.model_selection import GridSearchCV\n",
    "from sklearn.datasets import make_classification\n",
    "from sklearn.metrics import classification_report\n",
    "from sklearn.model_selection import RandomizedSearchCV\n",
    "from xgboost import XGBClassifier\n",
    "import optuna\n",
    "import seaborn as sns\n",
    "from sklearn.metrics import confusion_matrix"
   ]
  },
  {
   "cell_type": "code",
   "execution_count": null,
   "metadata": {
    "vscode": {
     "languageId": "plaintext"
    }
   },
   "outputs": [],
   "source": [
    "mlflow_server = \"http://localhost:5001\"\n",
    "mlflow.set_tracking_uri(mlflow_server)"
   ]
  },
  {
   "cell_type": "code",
   "execution_count": null,
   "metadata": {
    "vscode": {
     "languageId": "plaintext"
    }
   },
   "outputs": [],
   "source": [
    "data_path = \"s3://data/star_classification.csv\"\n",
    "data_raw =  wr.s3.read_csv(\"s3://data/star_classification.csv\")"
   ]
  },
  {
   "cell_type": "code",
   "execution_count": null,
   "metadata": {
    "vscode": {
     "languageId": "plaintext"
    }
   },
   "outputs": [],
   "source": [
    "\n",
    "# Guardo descripcion y metricas de los datos en un dataframe\n",
    "unique_values = {}\n",
    "missing_values = {}\n",
    "dtypes = {}\n",
    "\n",
    "data_description = data_raw.describe()\n",
    "\n",
    "# Create new rows for unique values and missing values\n",
    "unique_values = pd.Series({col: data_raw[col].nunique() for col in data_raw.columns}, name='unique')\n",
    "missing_values = pd.Series({col: data_raw[col].isnull().sum() for col in data_raw.columns}, name='missing')\n",
    "dtypes = pd.Series({col: str(data_raw[col].dtype) for col in data_raw.columns}, name='dtype')\n",
    "print(data_description)\n",
    "# Add these new rows to the data_description DataFrame\n",
    "data_description = pd.concat([data_description, \n",
    "                             pd.DataFrame([unique_values, missing_values, dtypes])], \n",
    "                             axis=0)\n",
    "\n",
    "print(data_description)\n",
    "\n",
    "\"\"\"\n",
    "# Log as a table in MLflow\n",
    "mlflow.log_table(\n",
    "    data=column_stats.values.tolist(),\n",
    "    column_names=column_stats.columns.tolist()\n",
    ")\n",
    "\"\"\""
   ]
  }
 ],
 "metadata": {
  "language_info": {
   "name": "python"
  }
 },
 "nbformat": 4,
 "nbformat_minor": 2
}
